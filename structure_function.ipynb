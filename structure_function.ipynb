{
 "cells": [
  {
   "cell_type": "code",
   "execution_count": 33,
   "metadata": {},
   "outputs": [
    {
     "name": "stdout",
     "output_type": "stream",
     "text": [
      "Using matplotlib backend: TkAgg\n",
      "Populating the interactive namespace from numpy and matplotlib\n"
     ]
    }
   ],
   "source": [
    "%pylab\n",
    "data = np.loadtxt(\"corrfunc_250.dat\")\n",
    "r, Sv = data[:,0],data[:,-2]\n",
    "R0 = 10\n",
    "cut = (r/R0 > 1e-3)*(r/R0<0.5)\n",
    "mach = Sv**0.5 / 0.2 # convert from velocity in km/s to mach # (divide by sound speed)\n",
    "\n",
    "fit = np.polyfit(np.log10(r[cut]/R0),np.log10(mach[cut]),1) # do linear fit to log quantities to get power law fit\n",
    "\n",
    "fig, ax = plt.subplots(figsize=(4,4))\n",
    "ax.loglog(r/R0,mach) # plot the structure function \n",
    "ax.loglog(r/R0,10**np.polyval(fit,np.log10(r/R0)),zorder=-1,ls='dashed',color='black')\n",
    "ax.set(xlabel=r\"$r/R_{\\rm 0}$\", ylabel=r\"$\\mathcal{M}\\left(r\\right)$\",xlim=[1e-3,1],ylim=[1,20])\n",
    "plt.savefig(\"structure_function.pdf\",bbox_inches='tight')"
   ]
  },
  {
   "cell_type": "code",
   "execution_count": null,
   "metadata": {},
   "outputs": [],
   "source": []
  }
 ],
 "metadata": {
  "kernelspec": {
   "display_name": "Python 3",
   "language": "python",
   "name": "python3"
  },
  "language_info": {
   "codemirror_mode": {
    "name": "ipython",
    "version": 3
   },
   "file_extension": ".py",
   "mimetype": "text/x-python",
   "name": "python",
   "nbconvert_exporter": "python",
   "pygments_lexer": "ipython3",
   "version": "3.7.9"
  }
 },
 "nbformat": 4,
 "nbformat_minor": 4
}
