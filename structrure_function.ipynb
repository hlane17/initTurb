{
 "cells": [
  {
   "cell_type": "code",
   "execution_count": 59,
   "id": "living-elimination",
   "metadata": {},
   "outputs": [
    {
     "name": "stdout",
     "output_type": "stream",
     "text": [
      "Using matplotlib backend: Qt5Agg\n",
      "Populating the interactive namespace from numpy and matplotlib\n"
     ]
    }
   ],
   "source": [
    "%pylab\n",
    "from glob import glob\n",
    "plt.cla()\n",
    "fnames = glob(\"/home/hlane/yt-conda/GMCTurb/TURBSPHERE_DEFAULT/corrfunc_*\")\n",
    "fnames_box = glob(\"/home/hlane/yt-conda/GMCTurb/TURBBOX/corrfunc_*\")\n",
    "arrays = [np.loadtxt(f) for f in fnames]\n",
    "arrays_box = [np.loadtxt(j) for j in fnames_box]\n",
    "final_array = np.array(arrays)\n",
    "final_array_box = np.array(arrays_box)\n",
    "\n",
    "r_avg = np.average(final_array[:,:,0], axis=0);\n",
    "Sv_avg = np.average(final_array[:,:,-2], axis=0); Sv_std = np.std(final_array[:,:,-2], axis=0); \n",
    "\n",
    "r_avg_box = np.average(final_array_box[:,:,0], axis=0);\n",
    "Sv_avg_box = np.average(final_array_box[:,:,-2], axis=0); Sv_std_box = np.std(final_array_box[:,:,-2], axis=0); \n",
    "\n",
    "\n",
    "R0 = 10\n",
    "cut = (r_avg/R0 > 1e-3)*(r_avg/R0<0.5)\n",
    "cut_box = (r_avg_box/R0 > 1e-3)*(r_avg_box\n",
    "                                 /R0<0.5)\n",
    "mach = Sv_avg**0.5 / 0.2 # convert from velocity in km/s to mach # (divide by sound speed)\n",
    "mach_std = Sv_std**0.5 / 0.2\n",
    "\n",
    "mach_box = Sv_avg_box**0.5 / 0.2 # convert from velocity in km/s to mach # (divide by sound speed)\n",
    "mach_std_box = Sv_std_box**0.5 / 0.2\n",
    "\n",
    "fit = np.polyfit(np.log10(r_avg[cut]/R0),np.log10(mach[cut]),1) # do linear fit to log quantities to get power law fit\n",
    "fit_box = np.polyfit(np.log10(r_avg_box[cut_box]/R0),np.log10(mach_box[cut_box]),1) # do linear fit to log quantities to get power law fit\n",
    "\n",
    "fig, ax = plt.subplots(figsize=(4,4))\n",
    "ax.fill_between(r_avg/R0, mach-mach_std, mach+mach_std, alpha =0.4)\n",
    "ax.fill_between(r_avg_box/R0, mach_box-mach_std_box, mach_box+mach_std_box, alpha =0.4)\n",
    "\n",
    "\n",
    "plot1, = ax.loglog(r_avg/R0,mach) # plot the structure function \n",
    "plot2, = ax.loglog(r_avg_box/R0,mach_box) # plot the structure function\n",
    "plot3, = ax.loglog(r_avg/R0,10**np.polyval(fit,np.log10(r_avg/R0)),zorder=-1,ls='dashed',color='black')\n",
    "ax.set(xlabel=r\"$r/R_{\\rm 0}$\", ylabel=r\"$\\mathcal{M}\\left(r\\right)$\",xlim=[1e-3,1],ylim=[1,20])\n",
    "ax.legend([plot1, plot2, plot3], [\"TURBSPHERE\", \"BOX\", r\"$\\propto r^{0.5}$\"])\n",
    "plt.savefig(\"/home/hlane/yt-conda/GMCTurb/a_800_1_10_2e7_y_1_0.01/structure_function.pdf\",bbox_inches='tight')\n",
    "\n"
   ]
  },
  {
   "cell_type": "code",
   "execution_count": null,
   "id": "silver-tiger",
   "metadata": {},
   "outputs": [],
   "source": []
  }
 ],
 "metadata": {
  "kernelspec": {
   "display_name": "Python 3",
   "language": "python",
   "name": "python3"
  },
  "language_info": {
   "codemirror_mode": {
    "name": "ipython",
    "version": 3
   },
   "file_extension": ".py",
   "mimetype": "text/x-python",
   "name": "python",
   "nbconvert_exporter": "python",
   "pygments_lexer": "ipython3",
   "version": "3.8.5"
  }
 },
 "nbformat": 4,
 "nbformat_minor": 5
}
