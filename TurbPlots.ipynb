{
 "cells": [
  {
   "cell_type": "code",
   "execution_count": 1,
   "metadata": {},
   "outputs": [
    {
     "name": "stdout",
     "output_type": "stream",
     "text": [
      "Using matplotlib backend: TkAgg\n",
      "Populating the interactive namespace from numpy and matplotlib\n"
     ]
    }
   ],
   "source": [
    "# %pylab includes matplotlib, numpy, scipy, most of the stuff you'd need for doing plot\n",
    "%pylab \n",
    "import os\n",
    "from os import chdir\n",
    "#import scipy.ndimage\n",
    "from scipy.interpolate import griddata\n",
    "#%matplotlib inline\n",
    "import matplotlib.pyplot as plt\n",
    "#plt.style.use('seaborn-white')\n",
    "import numpy as np\n",
    "#import matplotlib.tri as tri\n",
    "from scipy.interpolate import interp2d\n",
    "fileName = \"initTurb_stirring_0.25_0.5\" \n",
    "homeData = \"/home/hlane/scpData/\" + fileName + \"/\" + fileName + \".dat\""
   ]
  },
  {
   "cell_type": "code",
   "execution_count": 14,
   "metadata": {},
   "outputs": [],
   "source": [
    "vRMSFinal, timeFinal, centerMassX, centerMassY, centerMassZ, rmsDist, medianDist, = np.loadtxt(homeData).T # the .T turns the array sideways so that it lines up with the tuple of variables on the left hand side"
   ]
  },
  {
   "cell_type": "code",
   "execution_count": 15,
   "metadata": {},
   "outputs": [
    {
     "data": {
      "text/plain": [
       "Text(0, 0.5, 'vRMS')"
      ]
     },
     "execution_count": 15,
     "metadata": {},
     "output_type": "execute_result"
    }
   ],
   "source": [
    "#We now move on to plotting\n",
    "vRMSFinal = np.array(vRMSFinal) #array is a list of identical things, much more structured\n",
    "timeFinal = np.array(timeFinal) #offers more options as lists can be anything.\n",
    "plt.plot(timeFinal, vRMSFinal)   #x,y values of the lists for plotting.\n",
    "plt.xlabel('time') #x label}\n",
    "plt.ylabel('vRMS') #y label"
   ]
  },
  {
   "cell_type": "code",
   "execution_count": null,
   "metadata": {},
   "outputs": [],
   "source": [
    "centerMassX = np.array(centerMassX) #array is a list of identical things, much more structured\n",
    "timeFinal = np.array(timeFinal) #offers more options as lists can be anything.\n",
    "plt.plot(timeFinal, centerMassX)   #x,y values of the lists for plotting.\n",
    "plt.xlabel('time') #x label\n",
    "plt.ylabel('CenterMassX') #y label\n",
    "plt.show()\n",
    "centerMassY = np.array(centerMassY) #array is a list of identical things, much more structured\n",
    "timeFinal = np.array(timeFinal) #offers more options as lists can be anything.\n",
    "plt.plot(timeFinal, centerMassY)   #x,y values of the lists for plotting.\n",
    "plt.xlabel('time') #x label\n",
    "plt.ylabel('CenterMassY') #y label\n",
    "plt.show()\n",
    "centerMassZ = np.array(centerMassZ) #array is a list of identical things, much more structured\n",
    "timeFinal = np.array(timeFinal) #offers more options as lists can be anything.\n",
    "plt.plot(timeFinal, centerMassZ)   #x,y values of the lists for plotting.\n",
    "plt.xlabel('time') #x label\n",
    "plt.ylabel('CenterMassZ') #y label\n",
    "plt.show()"
   ]
  },
  {
   "cell_type": "code",
   "execution_count": null,
   "metadata": {},
   "outputs": [],
   "source": [
    "#We now move on to plotting\n",
    "rmsDist = np.array(rmsDist) #array is a list of identical things, much more structured\n",
    "timeFinal = np.array(timeFinal) #offers more options as lists can be anything.\n",
    "plt.plot(timeFinal, rmsDist)   #x,y values of the lists for plotting.\n",
    "plt.xlabel('time') #x label\n",
    "plt.ylabel('rms Distance from Center of Mass') #y label"
   ]
  },
  {
   "cell_type": "code",
   "execution_count": null,
   "metadata": {},
   "outputs": [],
   "source": [
    "medianDist = np.array(medianDist) #array is a list of identical things, much more structured\n",
    "timeFinal = np.array(timeFinal) #offers more options as lists can be anything.\n",
    "plt.plot(timeFinal, medianDist)   #x,y values of the lists for plotting.\n",
    "plt.xlabel('time') #x label\n",
    "plt.ylabel('Median Distance from Center of Mass') #y label"
   ]
  }
 ],
 "metadata": {
  "kernelspec": {
   "display_name": "Python 3",
   "language": "python",
   "name": "python3"
  },
  "language_info": {
   "codemirror_mode": {
    "name": "ipython",
    "version": 3
   },
   "file_extension": ".py",
   "mimetype": "text/x-python",
   "name": "python",
   "nbconvert_exporter": "python",
   "pygments_lexer": "ipython3",
   "version": "3.7.9"
  }
 },
 "nbformat": 4,
 "nbformat_minor": 5
}
